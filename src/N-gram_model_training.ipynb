{
 "cells": [
  {
   "cell_type": "code",
   "execution_count": 8,
   "id": "unlikely-mouse",
   "metadata": {},
   "outputs": [],
   "source": [
    "# This code is heavily inspired by this tutorial: https://www.kaggle.com/ab971631/beginners-guide-to-text-generation-pytorch\n",
    "\n",
    "import numpy as np\n",
    "import pandas as pd\n",
    "import matplotlib.pyplot as plt\n",
    "import nltk\n",
    "import string\n",
    "import unidecode\n",
    "import random\n",
    "import torch\n",
    "import torch.nn as nn\n",
    "\n",
    "from architecture import recursive\n",
    "\n",
    "SEED = 42\n",
    "torch.manual_seed(SEED)\n",
    "np.random.seed(SEED)\n",
    "random.seed(SEED)\n",
    "\n",
    "if torch.backends.cudnn.enabled:\n",
    "    torch.backends.cudnn.benchmark = False\n",
    "    torch.cuda.manual_seed_all(SEED)"
   ]
  },
  {
   "cell_type": "code",
   "execution_count": 9,
   "id": "russian-ballot",
   "metadata": {},
   "outputs": [],
   "source": [
    "df_train = pd.read_csv(\"data/lyrics.csv/lyrics.csv\")"
   ]
  },
  {
   "cell_type": "code",
   "execution_count": 20,
   "id": "tamil-promise",
   "metadata": {},
   "outputs": [
    {
     "data": {
      "text/plain": [
       "36987"
      ]
     },
     "execution_count": 20,
     "metadata": {},
     "output_type": "execute_result"
    }
   ],
   "source": [
    "i=0\n",
    "pop_lyrics = list()\n",
    "while i < len(df_train.index):\n",
    "    if df_train['genre'][i] == 'Pop' and type(df_train['lyrics'][i]) == str:\n",
    "        pop_lyrics.append(df_train['lyrics'][i])\n",
    "    i += 1\n",
    "\n",
    "def joinStrings(text):\n",
    "    return ' '.join(string for string in text)\n",
    "\n",
    "pop_text = joinStrings(pop_lyrics[:100])\n",
    "len(pop_text.split())"
   ]
  },
  {
   "cell_type": "code",
   "execution_count": 21,
   "id": "modern-cabin",
   "metadata": {},
   "outputs": [],
   "source": [
    "stop = set(nltk.corpus.stopwords.words('english'))\n",
    "exclude = set(string.punctuation) \n",
    "lemma = nltk.stem.wordnet.WordNetLemmatizer()\n",
    "def clean(doc):\n",
    "        stop_free = \" \".join([i for i in doc.split() if i not in stop])\n",
    "        punc_free = \"\".join(ch for ch in stop_free if ch not in exclude)\n",
    "        normalized = \" \".join(lemma.lemmatize(word) for word in punc_free.split())\n",
    "        return normalized\n",
    "test_sentence = clean(pop_text).lower().split()"
   ]
  },
  {
   "cell_type": "code",
   "execution_count": 22,
   "id": "empirical-illness",
   "metadata": {},
   "outputs": [
    {
     "name": "stdout",
     "output_type": "stream",
     "text": [
      "[(['oh', 'baby'], 'doing'), (['baby', 'doing'], 'you'), (['doing', 'you'], 'know')]\n"
     ]
    }
   ],
   "source": [
    "trigrams = [([test_sentence[i], test_sentence[i + 1]], test_sentence[i + 2])\n",
    "            for i in range(len(test_sentence) - 2)]\n",
    "chunk_len=len(trigrams)\n",
    "print(trigrams[:3])"
   ]
  },
  {
   "cell_type": "code",
   "execution_count": 23,
   "id": "valued-purple",
   "metadata": {},
   "outputs": [],
   "source": [
    "vocab = set(test_sentence)\n",
    "voc_len=len(vocab)\n",
    "word_to_ix = {word: i for i, word in enumerate(vocab)}"
   ]
  },
  {
   "cell_type": "code",
   "execution_count": 24,
   "id": "collect-church",
   "metadata": {},
   "outputs": [],
   "source": [
    "inp=[]\n",
    "tar=[]\n",
    "for context, target in trigrams:\n",
    "        context_idxs = torch.tensor([word_to_ix[w] for w in context], dtype=torch.long)\n",
    "        inp.append(context_idxs)\n",
    "        targ = torch.tensor([word_to_ix[target]], dtype=torch.long)\n",
    "        tar.append(targ)"
   ]
  },
  {
   "cell_type": "code",
   "execution_count": 25,
   "id": "massive-debut",
   "metadata": {},
   "outputs": [],
   "source": [
    "def train(inp, target):\n",
    "    if torch.backends.cudnn.enabled:\n",
    "        hidden = decoder.init_hidden().cuda()\n",
    "    else:\n",
    "        hidden = decoder.init_hidden()\n",
    "    decoder.zero_grad()\n",
    "    loss = 0\n",
    "    \n",
    "    for c in range(chunk_len):\n",
    "        if torch.backends.cudnn.enabled:\n",
    "            output, hidden = decoder(inp[c].cuda(), hidden)\n",
    "            loss += criterion(output, target[c].cuda())\n",
    "        else:\n",
    "            output, hidden = decoder(inp[c], hidden)\n",
    "            loss += criterion(output, target[c])\n",
    "\n",
    "    loss.backward()\n",
    "    decoder_optimizer.step()\n",
    "\n",
    "    return loss.data.item() / chunk_len"
   ]
  },
  {
   "cell_type": "code",
   "execution_count": 26,
   "id": "legitimate-clearing",
   "metadata": {},
   "outputs": [],
   "source": [
    "import time, math\n",
    "\n",
    "def time_since(since):\n",
    "    s = time.time() - since\n",
    "    m = math.floor(s / 60)\n",
    "    s -= m * 60\n",
    "    return '%dm %ds' % (m, s)"
   ]
  },
  {
   "cell_type": "code",
   "execution_count": 27,
   "id": "checked-interest",
   "metadata": {},
   "outputs": [
    {
     "name": "stdout",
     "output_type": "stream",
     "text": [
      "[0m 21s (1 5%) 7.9908]\n",
      "[0m 41s (2 10%) 7.5451]\n",
      "[1m 2s (3 15%) 6.8581]\n",
      "[1m 23s (4 20%) 6.2012]\n",
      "[1m 44s (5 25%) 5.8873]\n",
      "[2m 5s (6 30%) 5.5759]\n",
      "[2m 26s (7 35%) 5.3096]\n",
      "[2m 47s (8 40%) 5.0411]\n",
      "[3m 8s (9 45%) 4.7703]\n",
      "[3m 29s (10 50%) 4.5030]\n",
      "[3m 50s (11 55%) 4.2388]\n",
      "[4m 10s (12 60%) 3.9791]\n",
      "[4m 31s (13 65%) 3.7288]\n",
      "[4m 52s (14 70%) 3.4923]\n",
      "[5m 13s (15 75%) 3.2703]\n",
      "[5m 34s (16 80%) 3.0617]\n",
      "[5m 55s (17 85%) 2.8651]\n",
      "[6m 15s (18 90%) 2.6795]\n",
      "[6m 36s (19 95%) 2.5052]\n",
      "[6m 56s (20 100%) 2.3422]\n"
     ]
    }
   ],
   "source": [
    "n_epochs = 20\n",
    "print_every = 1\n",
    "plot_every = 10\n",
    "hidden_size = 100\n",
    "n_layers = 1\n",
    "lr = 0.015\n",
    "\n",
    "decoder = recursive.RNN(voc_len, hidden_size, voc_len, n_layers)\n",
    "decoder_optimizer = torch.optim.Adam(decoder.parameters(), lr=lr)\n",
    "criterion = nn.CrossEntropyLoss()\n",
    "\n",
    "start = time.time()\n",
    "all_losses = []\n",
    "loss_avg = 0\n",
    "if torch.backends.cudnn.enabled:\n",
    "    decoder.cuda()\n",
    "for epoch in range(1, n_epochs + 1):\n",
    "    loss = train(inp,tar)       \n",
    "    loss_avg += loss\n",
    "\n",
    "    if epoch % print_every == 0:\n",
    "        print('[%s (%d %d%%) %.4f]' % (time_since(start), epoch, epoch / n_epochs * 100, loss))\n",
    "#         print(evaluate('ge', 200), '\\n')\n",
    "\n",
    "    if epoch % plot_every == 0:\n",
    "        all_losses.append(loss_avg / plot_every)\n",
    "        loss_avg = 0"
   ]
  },
  {
   "cell_type": "code",
   "execution_count": 11,
   "id": "forbidden-government",
   "metadata": {},
   "outputs": [
    {
     "data": {
      "text/plain": [
       "[<matplotlib.lines.Line2D at 0x2331ec05e80>]"
      ]
     },
     "execution_count": 11,
     "metadata": {},
     "output_type": "execute_result"
    },
    {
     "data": {
      "image/png": "[encoded data removed]",
      "text/plain": [
       "<Figure size 432x288 with 1 Axes>"
      ]
     },
     "metadata": {
      "needs_background": "light"
     },
     "output_type": "display_data"
    }
   ],
   "source": [
    "import matplotlib.pyplot as plt\n",
    "import matplotlib.ticker as ticker\n",
    "%matplotlib inline\n",
    "\n",
    "plt.figure()\n",
    "plt.plot(all_losses)"
   ]
  },
  {
   "cell_type": "code",
   "execution_count": 12,
   "id": "cognitive-mission",
   "metadata": {},
   "outputs": [],
   "source": [
    "torch.save(decoder.state_dict(), \"model/trigram_pop_10.pth\")"
   ]
  },
  {
   "cell_type": "code",
   "execution_count": null,
   "id": "single-illinois",
   "metadata": {},
   "outputs": [],
   "source": []
  }
 ],
 "metadata": {
  "kernelspec": {
   "display_name": "Python 3",
   "language": "python",
   "name": "python3"
  },
  "language_info": {
   "codemirror_mode": {
    "name": "ipython",
    "version": 3
   },
   "file_extension": ".py",
   "mimetype": "text/x-python",
   "name": "python",
   "nbconvert_exporter": "python",
   "pygments_lexer": "ipython3",
   "version": "3.8.5"
  }
 },
 "nbformat": 4,
 "nbformat_minor": 5
}
