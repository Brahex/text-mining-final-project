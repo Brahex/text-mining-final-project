{
  "nbformat": 4,
  "nbformat_minor": 0,
  "metadata": {
    "colab": {
      "name": "GPT-2 Text generation",
      "provenance": [],
      "collapsed_sections": [],
      "toc_visible": true
    },
    "kernelspec": {
      "name": "python3",
      "display_name": "Python 3"
    },
    "accelerator": "GPU"
  },
  "cells": [
    {
      "cell_type": "markdown",
      "metadata": {
        "id": "H7LoMj4GA4n_"
      },
      "source": [
        "#  Train a GPT-2 Text-Generating Model w/ GPU For Free \n",
        "\n",
        "by [Max Woolf](http://minimaxir.com)\n",
        "\n",
        "*Last updated: February 14th, 2021*\n",
        "\n",
        "Retrain an advanced text generating neural network on any text dataset **for free on a GPU using Collaboratory** using `gpt-2-simple`!\n",
        "\n",
        "For more about `gpt-2-simple`, you can visit [this GitHub repository](https://github.com/minimaxir/gpt-2-simple). You can also read my [blog post](https://minimaxir.com/2019/09/howto-gpt2/) for more information how to use this notebook!\n",
        "\n",
        "\n",
        "To get started:\n",
        "\n",
        "1. Copy this notebook to your Google Drive to keep it and save your changes. (File -> Save a Copy in Drive)\n",
        "2. Make sure you're running the notebook in Google Chrome.\n",
        "3. Run the cells below:\n"
      ]
    },
    {
      "cell_type": "code",
      "metadata": {
        "id": "KBkpRgBCBS2_",
        "colab": {
          "base_uri": "https://localhost:8080/"
        },
        "outputId": "021ed21e-6e11-44ff-e26e-6220970c7bb7"
      },
      "source": [
        "%tensorflow_version 1.x\n",
        "!pip install -q gpt-2-simple\n",
        "import gpt_2_simple as gpt2\n",
        "from datetime import datetime\n",
        "from google.colab import files"
      ],
      "execution_count": null,
      "outputs": [
        {
          "output_type": "stream",
          "text": [
            "TensorFlow 1.x selected.\n",
            "WARNING:tensorflow:\n",
            "The TensorFlow contrib module will not be included in TensorFlow 2.0.\n",
            "For more information, please see:\n",
            "  * https://github.com/tensorflow/community/blob/master/rfcs/20180907-contrib-sunset.md\n",
            "  * https://github.com/tensorflow/addons\n",
            "  * https://github.com/tensorflow/io (for I/O related ops)\n",
            "If you depend on functionality not listed there, please file an issue.\n",
            "\n"
          ],
          "name": "stdout"
        }
      ]
    },
    {
      "cell_type": "markdown",
      "metadata": {
        "id": "Bj2IJLHP3KwE"
      },
      "source": [
        "## GPU\n",
        "\n",
        "Colaboratory uses either a Nvidia T4 GPU or an Nvidia K80 GPU. The T4 is slightly faster than the old K80 for training GPT-2, and has more memory allowing you to train the larger GPT-2 models and generate more text.\n",
        "\n",
        "You can verify which GPU is active by running the cell below."
      ]
    },
    {
      "cell_type": "code",
      "metadata": {
        "id": "sUmTooTW3osf",
        "colab": {
          "base_uri": "https://localhost:8080/"
        },
        "outputId": "4bc1abed-a44f-46e6-a060-1e2332ecfd64"
      },
      "source": [
        "!nvidia-smi"
      ],
      "execution_count": null,
      "outputs": [
        {
          "output_type": "stream",
          "text": [
            "Wed Apr 28 14:08:45 2021       \n",
            "+-----------------------------------------------------------------------------+\n",
            "| NVIDIA-SMI 465.19.01    Driver Version: 460.32.03    CUDA Version: 11.2     |\n",
            "|-------------------------------+----------------------+----------------------+\n",
            "| GPU  Name        Persistence-M| Bus-Id        Disp.A | Volatile Uncorr. ECC |\n",
            "| Fan  Temp  Perf  Pwr:Usage/Cap|         Memory-Usage | GPU-Util  Compute M. |\n",
            "|                               |                      |               MIG M. |\n",
            "|===============================+======================+======================|\n",
            "|   0  Tesla T4            Off  | 00000000:00:04.0 Off |                    0 |\n",
            "| N/A   55C    P8    10W /  70W |      0MiB / 15109MiB |      0%      Default |\n",
            "|                               |                      |                  N/A |\n",
            "+-------------------------------+----------------------+----------------------+\n",
            "                                                                               \n",
            "+-----------------------------------------------------------------------------+\n",
            "| Processes:                                                                  |\n",
            "|  GPU   GI   CI        PID   Type   Process name                  GPU Memory |\n",
            "|        ID   ID                                                   Usage      |\n",
            "|=============================================================================|\n",
            "|  No running processes found                                                 |\n",
            "+-----------------------------------------------------------------------------+\n"
          ],
          "name": "stdout"
        }
      ]
    },
    {
      "cell_type": "markdown",
      "metadata": {
        "id": "0wXB05bPDYxS"
      },
      "source": [
        "## Downloading GPT-2\n",
        "\n",
        "If you're retraining a model on new text, you need to download the GPT-2 model first. \n",
        "\n",
        "There are three released sizes of GPT-2:\n",
        "\n",
        "* `124M` (default): the \"small\" model, 500MB on disk.\n",
        "* `355M`: the \"medium\" model, 1.5GB on disk.\n",
        "* `774M`: the \"large\" model, cannot currently be finetuned with Colaboratory but can be used to generate text from the pretrained model (see later in Notebook)\n",
        "* `1558M`: the \"extra large\", true model. Will not work if a K80/P4 GPU is attached to the notebook. (like `774M`, it cannot be finetuned).\n",
        "\n",
        "Larger models have more knowledge, but take longer to finetune and longer to generate text. You can specify which base model to use by changing `model_name` in the cells below.\n",
        "\n",
        "The next cell downloads it from Google Cloud Storage and saves it in the Colaboratory VM at `/models/<model_name>`.\n",
        "\n",
        "This model isn't permanently saved in the Colaboratory VM; you'll have to redownload it if you want to retrain it at a later time."
      ]
    },
    {
      "cell_type": "code",
      "metadata": {
        "id": "P8wSlgXoDPCR",
        "colab": {
          "base_uri": "https://localhost:8080/"
        },
        "outputId": "3db5a93f-3b30-4b76-f98e-654be7d27010"
      },
      "source": [
        "gpt2.download_gpt2(model_name=\"124M\")"
      ],
      "execution_count": null,
      "outputs": [
        {
          "output_type": "stream",
          "text": [
            "Fetching checkpoint: 1.05Mit [00:00, 276Mit/s]                                                      \n",
            "Fetching encoder.json: 1.05Mit [00:00, 2.02Mit/s]\n",
            "Fetching hparams.json: 1.05Mit [00:00, 531Mit/s]                                                    \n",
            "Fetching model.ckpt.data-00000-of-00001: 498Mit [01:50, 4.51Mit/s]\n",
            "Fetching model.ckpt.index: 1.05Mit [00:00, 319Mit/s]                                                \n",
            "Fetching model.ckpt.meta: 1.05Mit [00:00, 3.67Mit/s]\n",
            "Fetching vocab.bpe: 1.05Mit [00:00, 3.40Mit/s]\n"
          ],
          "name": "stderr"
        }
      ]
    },
    {
      "cell_type": "markdown",
      "metadata": {
        "id": "N8KXuKWzQSsN"
      },
      "source": [
        "## Mounting Google Drive\n",
        "\n",
        "The best way to get input text to-be-trained into the Colaboratory VM, and to get the trained model *out* of Colaboratory, is to route it through Google Drive *first*.\n",
        "\n",
        "Running this cell (which will only work in Colaboratory) will mount your personal Google Drive in the VM, which later cells can use to get data in/out. (it will ask for an auth code; that auth is not saved anywhere)"
      ]
    },
    {
      "cell_type": "code",
      "metadata": {
        "id": "puq4iC6vUAHc"
      },
      "source": [
        "gpt2.mount_gdrive()"
      ],
      "execution_count": null,
      "outputs": []
    },
    {
      "cell_type": "markdown",
      "metadata": {
        "id": "BT__brhBCvJu"
      },
      "source": [
        "## Uploading a Text File to be Trained to Colaboratory\n",
        "\n",
        "In the Colaboratory Notebook sidebar on the left of the screen, select *Files*. From there you can upload files:\n",
        "\n",
        "![alt text](https://i.imgur.com/TGcZT4h.png)\n",
        "\n",
        "Upload **any smaller text file**  (<10 MB) and update the file name in the cell below, then run the cell."
      ]
    },
    {
      "cell_type": "code",
      "metadata": {
        "id": "6OFnPCLADfll"
      },
      "source": [
        "file_name = \"negative_pop.txt\""
      ],
      "execution_count": null,
      "outputs": []
    },
    {
      "cell_type": "markdown",
      "metadata": {
        "id": "HeeSKtNWUedE"
      },
      "source": [
        "If your text file is larger than 10MB, it is recommended to upload that file to Google Drive first, then copy that file from Google Drive to the Colaboratory VM."
      ]
    },
    {
      "cell_type": "code",
      "metadata": {
        "id": "-Z6okFD8VKtS",
        "colab": {
          "base_uri": "https://localhost:8080/",
          "height": 316
        },
        "outputId": "d9544c28-e503-4abd-9e43-50b1817863bd"
      },
      "source": [
        "gpt2.copy_file_from_gdrive(file_name)"
      ],
      "execution_count": null,
      "outputs": [
        {
          "output_type": "error",
          "ename": "AssertionError",
          "evalue": "ignored",
          "traceback": [
            "\u001b[0;31m---------------------------------------------------------------------------\u001b[0m",
            "\u001b[0;31mAssertionError\u001b[0m                            Traceback (most recent call last)",
            "\u001b[0;32m<ipython-input-4-0103766e8617>\u001b[0m in \u001b[0;36m<module>\u001b[0;34m()\u001b[0m\n\u001b[0;32m----> 1\u001b[0;31m \u001b[0mgpt2\u001b[0m\u001b[0;34m.\u001b[0m\u001b[0mcopy_file_from_gdrive\u001b[0m\u001b[0;34m(\u001b[0m\u001b[0mfile_name\u001b[0m\u001b[0;34m)\u001b[0m\u001b[0;34m\u001b[0m\u001b[0;34m\u001b[0m\u001b[0m\n\u001b[0m",
            "\u001b[0;32m/usr/local/lib/python3.7/dist-packages/gpt_2_simple/gpt_2.py\u001b[0m in \u001b[0;36mcopy_file_from_gdrive\u001b[0;34m(file_path)\u001b[0m\n\u001b[1;32m    614\u001b[0m \u001b[0;32mdef\u001b[0m \u001b[0mcopy_file_from_gdrive\u001b[0m\u001b[0;34m(\u001b[0m\u001b[0mfile_path\u001b[0m\u001b[0;34m)\u001b[0m\u001b[0;34m:\u001b[0m\u001b[0;34m\u001b[0m\u001b[0;34m\u001b[0m\u001b[0m\n\u001b[1;32m    615\u001b[0m     \u001b[0;34m\"\"\"Copies a file from a mounted Google Drive.\"\"\"\u001b[0m\u001b[0;34m\u001b[0m\u001b[0;34m\u001b[0m\u001b[0m\n\u001b[0;32m--> 616\u001b[0;31m     \u001b[0mis_mounted\u001b[0m\u001b[0;34m(\u001b[0m\u001b[0;34m)\u001b[0m\u001b[0;34m\u001b[0m\u001b[0;34m\u001b[0m\u001b[0m\n\u001b[0m\u001b[1;32m    617\u001b[0m \u001b[0;34m\u001b[0m\u001b[0m\n\u001b[1;32m    618\u001b[0m     \u001b[0mshutil\u001b[0m\u001b[0;34m.\u001b[0m\u001b[0mcopyfile\u001b[0m\u001b[0;34m(\u001b[0m\u001b[0;34m\"/content/drive/My Drive/\"\u001b[0m \u001b[0;34m+\u001b[0m \u001b[0mfile_path\u001b[0m\u001b[0;34m,\u001b[0m \u001b[0mfile_path\u001b[0m\u001b[0;34m)\u001b[0m\u001b[0;34m\u001b[0m\u001b[0;34m\u001b[0m\u001b[0m\n",
            "\u001b[0;32m/usr/local/lib/python3.7/dist-packages/gpt_2_simple/gpt_2.py\u001b[0m in \u001b[0;36mis_mounted\u001b[0;34m()\u001b[0m\n\u001b[1;32m    560\u001b[0m \u001b[0;32mdef\u001b[0m \u001b[0mis_mounted\u001b[0m\u001b[0;34m(\u001b[0m\u001b[0;34m)\u001b[0m\u001b[0;34m:\u001b[0m\u001b[0;34m\u001b[0m\u001b[0;34m\u001b[0m\u001b[0m\n\u001b[1;32m    561\u001b[0m     \u001b[0;34m\"\"\"Checks if the Google Drive is mounted.\"\"\"\u001b[0m\u001b[0;34m\u001b[0m\u001b[0;34m\u001b[0m\u001b[0m\n\u001b[0;32m--> 562\u001b[0;31m     \u001b[0;32massert\u001b[0m \u001b[0mos\u001b[0m\u001b[0;34m.\u001b[0m\u001b[0mpath\u001b[0m\u001b[0;34m.\u001b[0m\u001b[0misdir\u001b[0m\u001b[0;34m(\u001b[0m\u001b[0;34m'/content/drive'\u001b[0m\u001b[0;34m)\u001b[0m\u001b[0;34m,\u001b[0m \u001b[0;34m\"You must mount first using mount_gdrive()\"\u001b[0m\u001b[0;34m\u001b[0m\u001b[0;34m\u001b[0m\u001b[0m\n\u001b[0m\u001b[1;32m    563\u001b[0m \u001b[0;34m\u001b[0m\u001b[0m\n\u001b[1;32m    564\u001b[0m \u001b[0;34m\u001b[0m\u001b[0m\n",
            "\u001b[0;31mAssertionError\u001b[0m: You must mount first using mount_gdrive()"
          ]
        }
      ]
    },
    {
      "cell_type": "markdown",
      "metadata": {
        "id": "LdpZQXknFNY3"
      },
      "source": [
        "## Finetune GPT-2\n",
        "\n",
        "The next cell will start the actual finetuning of GPT-2. It creates a persistent TensorFlow session which stores the training config, then runs the training for the specified number of `steps`. (to have the finetuning run indefinitely, set `steps = -1`)\n",
        "\n",
        "The model checkpoints will be saved in `/checkpoint/run1` by default. The checkpoints are saved every 500 steps (can be changed) and when the cell is stopped.\n",
        "\n",
        "The training might time out after 4ish hours; make sure you end training and save the results so you don't lose them!\n",
        "\n",
        "**IMPORTANT NOTE:** If you want to rerun this cell, **restart the VM first** (Runtime -> Restart Runtime). You will need to rerun imports but not recopy files.\n",
        "\n",
        "Other optional-but-helpful parameters for `gpt2.finetune`:\n",
        "\n",
        "\n",
        "*  **`restore_from`**: Set to `fresh` to start training from the base GPT-2, or set to `latest` to restart training from an existing checkpoint.\n",
        "* **`sample_every`**: Number of steps to print example output\n",
        "* **`print_every`**: Number of steps to print training progress.\n",
        "* **`learning_rate`**:  Learning rate for the training. (default `1e-4`, can lower to `1e-5` if you have <1MB input data)\n",
        "*  **`run_name`**: subfolder within `checkpoint` to save the model. This is useful if you want to work with multiple models (will also need to specify  `run_name` when loading the model)\n",
        "* **`overwrite`**: Set to `True` if you want to continue finetuning an existing model (w/ `restore_from='latest'`) without creating duplicate copies. "
      ]
    },
    {
      "cell_type": "code",
      "metadata": {
        "id": "aeXshJM-Cuaf",
        "colab": {
          "base_uri": "https://localhost:8080/"
        },
        "outputId": "4c7734a5-92c9-4343-f23e-0407b2562a5b"
      },
      "source": [
        "sess = gpt2.start_tf_sess()\n",
        "\n",
        "gpt2.finetune(sess,\n",
        "              dataset=file_name,\n",
        "              model_name='124M',\n",
        "              steps=1000,\n",
        "              restore_from='fresh',\n",
        "              run_name='run1',\n",
        "              print_every=10,\n",
        "              sample_every=200,\n",
        "              save_every=500\n",
        "              )"
      ],
      "execution_count": null,
      "outputs": [
        {
          "output_type": "stream",
          "text": [
            "WARNING:tensorflow:From /usr/local/lib/python3.7/dist-packages/gpt_2_simple/src/sample.py:17: where (from tensorflow.python.ops.array_ops) is deprecated and will be removed in a future version.\n",
            "Instructions for updating:\n",
            "Use tf.where in 2.0, which has the same broadcast rule as np.where\n",
            "Loading checkpoint models/124M/model.ckpt\n",
            "INFO:tensorflow:Restoring parameters from models/124M/model.ckpt\n"
          ],
          "name": "stdout"
        },
        {
          "output_type": "stream",
          "text": [
            "\r  0%|          | 0/1 [00:00<?, ?it/s]"
          ],
          "name": "stderr"
        },
        {
          "output_type": "stream",
          "text": [
            "Loading dataset...\n"
          ],
          "name": "stdout"
        },
        {
          "output_type": "stream",
          "text": [
            "100%|██████████| 1/1 [00:43<00:00, 43.03s/it]\n"
          ],
          "name": "stderr"
        },
        {
          "output_type": "stream",
          "text": [
            "dataset has 9636055 tokens\n",
            "Training...\n",
            "[10 | 27.62] loss=2.51 avg=2.51\n",
            "[20 | 49.40] loss=2.61 avg=2.56\n",
            "[30 | 71.83] loss=2.38 avg=2.50\n",
            "[40 | 95.06] loss=2.04 avg=2.38\n",
            "[50 | 118.14] loss=2.35 avg=2.38\n",
            "[60 | 140.86] loss=2.13 avg=2.33\n",
            "[70 | 163.76] loss=2.52 avg=2.36\n",
            "[80 | 186.81] loss=2.81 avg=2.42\n",
            "[90 | 209.78] loss=2.58 avg=2.44\n",
            "[100 | 232.70] loss=1.75 avg=2.37\n",
            "[110 | 255.66] loss=2.21 avg=2.35\n",
            "[120 | 278.67] loss=2.38 avg=2.36\n",
            "[130 | 301.69] loss=3.27 avg=2.43\n",
            "[140 | 324.73] loss=2.33 avg=2.42\n",
            "[150 | 347.81] loss=2.25 avg=2.41\n",
            "[160 | 370.84] loss=2.29 avg=2.40\n",
            "[170 | 393.88] loss=2.29 avg=2.39\n",
            "[180 | 416.88] loss=2.75 avg=2.42\n",
            "[190 | 439.87] loss=2.08 avg=2.40\n",
            "[200 | 462.86] loss=2.14 avg=2.38\n",
            "======== SAMPLE 1 ========\n",
            "jh\n",
            "You don't ever know\n",
            "All the things I said about you\n",
            "Don't you never know\n",
            "All the things I said about you\n",
            "Don't you ever know\n",
            "Always on the look-out, always on the look-out\n",
            "Always with me\n",
            "Always as the man\n",
            "Always trying to be the man\n",
            "Always trying to be the man\n",
            "You keep me up\n",
            "Always on the look-out\n",
            "Always on the look-out\n",
            "Always on the look-out\n",
            "Always on the look-out\n",
            "Always on the look-out\n",
            "Always on the look-out\n",
            "Always on the look-out\n",
            "Always on the look-outI knew you wanted it\n",
            "Now I don't know how you thought that\n",
            "You'd ever\n",
            "Know the truth\n",
            "You don't know why\n",
            "But this is my love\n",
            "I want a girl that I can love\n",
            "Always on the look-out, always on the look-out\n",
            "Always on the look-outI never knew this would change\n",
            "But now I see why\n",
            "I love you\n",
            "But I'm gonna keep trying\n",
            "That's all I do\n",
            "I don't care so\n",
            "I feel it's time to let it go\n",
            "You know that I'll never change\n",
            "But this is my love\n",
            "I want a girl that I can love\n",
            "Always on the look-out, always on the look-out\n",
            "Always on the look-out\n",
            "Always on the look-out\n",
            "Always on the look-out\n",
            "Always on the look-out\n",
            "Always on the look-out\n",
            "Always on the look-out\n",
            "Always on the look-out\n",
            "Always on the look-out\n",
            "Always on the look-out\n",
            "Always on the look-out\n",
            "Always on the look-outI never knew this would change\n",
            "But now I see the reason why\n",
            "I love you\n",
            "But I'm gonna keep trying\n",
            "That's all I do\n",
            "I don't care so\n",
            "I feel it's time to let it go\n",
            "You know that I'll never change\n",
            "I feel it's time to let it go\n",
            "Always on the look-out, always on the look-out\n",
            "Always on the look-out\n",
            "Always on the look-out\n",
            "Always on the look-out\n",
            "Always on the look-out\n",
            "Always on the look-out\n",
            "Always on the look-out\n",
            "Always on the look-out\n",
            "Always on the look-out\n",
            "Always on the look-out\n",
            "Always on the look-outI've always been your number one love\n",
            "But I do it too high\n",
            "I always thought if I were you\n",
            "I would be your number one girl\n",
            "But now I see my love's gone\n",
            "But tonight\n",
            "I've made myself the number one girl\n",
            "And I'll always try to be as good as your love\n",
            "But tonight\n",
            "I've made myself the number one girl\n",
            "And I'll never get tired of the way you treat me\n",
            "But tonight\n",
            "I've made myself the number one girl\n",
            "And I'll never get tired of the way you treat me\n",
            "But tonight\n",
            "I've made yourself the number one girl\n",
            "And I'll never get tired of the way you treat me\n",
            "But tonight\n",
            "I've made myself the number one girl\n",
            "And I'll never get tired of the way you treat me\n",
            "But I can't see any real end of this love that I've always loved\n",
            "I always thought if I were you\n",
            "I would be your number one girl\n",
            "But now I see my love's gone\n",
            "But tonight\n",
            "I've made myself the number one girl\n",
            "And I'll never get tired of the way you treat me\n",
            "But tonight\n",
            "I've made myself the number one girl\n",
            "And I'll never get tired of the way you treat me\n",
            "But tonight\n",
            "I've made myself the number one girl\n",
            "And I'll never get tired of the way you treat me\n",
            "But tonight\n",
            "I've made myself the number one girl\n",
            "And I'll never get tired of the way you treat me\n",
            "And tonight\n",
            "I've made myself the number one girl\n",
            "And I'll never get tired of the way you treat me\n",
            "But tonight\n",
            "I've made myself the number one girl\n",
            "And I'll never get tired of the way you treat me\n",
            "Now I'm sure that it's a shame that\n",
            "I've always kept my promise to you\n",
            "But tonight\n",
            "I've made myself the number one girl\n",
            "And I'll never get tired of the way you treat me\n",
            "But tonight\n",
            "I've made myself the number one girl\n",
            "And I'll never get tired of the way you treat me\n",
            "But tonight\n",
            "I've made myself the number one girl\n",
            "And I'll never get tired of the way you treat me\n",
            "And tonight\n",
            "I've made myself the number one girl\n",
            "And I'll never get tired of the way you treat me\n",
            "But tonight\n",
            "I've made myself the number one girl\n",
            "And I'll never get tired of the way you treat me\n",
            "All these thoughts in our head cause I know it\n",
            "Cause my love\n",
            "\n",
            "[210 | 496.18] loss=2.21 avg=2.37\n",
            "[220 | 519.29] loss=3.33 avg=2.42\n",
            "[230 | 542.44] loss=2.33 avg=2.42\n",
            "[240 | 565.56] loss=2.56 avg=2.42\n",
            "[250 | 588.64] loss=1.94 avg=2.40\n",
            "[260 | 611.71] loss=2.33 avg=2.40\n",
            "[270 | 634.76] loss=2.43 avg=2.40\n",
            "[280 | 657.77] loss=2.76 avg=2.42\n",
            "[290 | 680.78] loss=2.17 avg=2.41\n",
            "[300 | 703.78] loss=2.59 avg=2.41\n",
            "[310 | 726.77] loss=2.49 avg=2.42\n",
            "[320 | 749.77] loss=2.24 avg=2.41\n",
            "[330 | 772.82] loss=2.33 avg=2.41\n",
            "[340 | 795.89] loss=2.12 avg=2.40\n",
            "[350 | 818.93] loss=2.37 avg=2.40\n",
            "[360 | 841.96] loss=2.05 avg=2.38\n",
            "[370 | 864.97] loss=2.63 avg=2.39\n",
            "[380 | 888.00] loss=2.71 avg=2.40\n",
            "[390 | 910.99] loss=1.94 avg=2.39\n",
            "[400 | 934.01] loss=2.70 avg=2.40\n",
            "======== SAMPLE 1 ========\n",
            "'d got a friend to play with\n",
            "I'd been out in the club, I remember feeling\n",
            "The heat, that was it, I guess it's a bad thing\n",
            "I got two buddies to play with, I got a friend to do it\n",
            "I've been in the club, I'm fine\n",
            "But now I've had enough\n",
            "It's been a while, I know, I know\n",
            "Well they're my friends in the club\n",
            "But now they're gone all alone\n",
            "And in a place where nobody knows\n",
            "I still see one friend of mine\n",
            "Wanna see what, what's next?\n",
            "Oh, I can't take no more\n",
            "'Cause I've been around\n",
            "The club, the club, the club\n",
            "I can't give a fuck, 'cause\n",
            "It's gonna be so hard\n",
            "Don't get hurt, you will die\n",
            "You won't get the same\n",
            "'cause you got to have your say\n",
            "'Cause you got to have your say\n",
            "(You've got to have the will to)\n",
            "'Cause you got to have your say\n",
            "(You got to have the will to)\n",
            "'Cause you got to have your say\n",
            "'Cause you got to have your say\n",
            "'Cause you got to have your say\n",
            "'Cause you got to have your say\n",
            "'Cause you got to have your say\n",
            "'Cause you got to have your say\n",
            "'Cause you got to have your say\n",
            "'Cause you got to have your say\n",
            "'Cause you got to have your say\n",
            "'Cause you got to have your say\n",
            "'Cause you got to have your say\n",
            "'Cause you got to have your say\n",
            "'Cause you got to have your say\n",
            "'Cause you got to have your say\n",
            "'Cause you got to have your say\n",
            "It's all so hard\n",
            "You won't get the same\n",
            "'Cause you've got to have your say\n",
            "(You've got to have your say)\n",
            "'Cause you got to have your say\n",
            "'Cause you got to have your say\n",
            "(You had to have your say)\n",
            "'Cause you got to have your say\n",
            "'Cause you got to have your say\n",
            "'Cause you got to have your sayYou say, you say, you say\n",
            "(This is how he said it)\n",
            "That I'll stay till the end of time\n",
            "(This is how he said it)\n",
            "To get a new start\n",
            "(You say, you say)\n",
            "When they say so much, you say\n",
            "(You say, you say)\n",
            "(You say, you say)\n",
            "(You say, you say)\n",
            "(You say, you say)\n",
            "(You say)\n",
            "(You say)\n",
            "(You say)\n",
            "(You say)\n",
            "(You say, you say)\n",
            "(You say)\n",
            "(You say)\n",
            "(You say)\n",
            "(You say)\n",
            "(You say)\n",
            "(You say)\n",
            "(You say)\n",
            "(You say)\n",
            "You say)\n",
            "(You say)\n",
            "You say)\n",
            "You say)\n",
            "But if\n",
            "(If I make you feel good, you make me feel good)\n",
            "You don't have to be here with me\n",
            "(If I make you feel good, you make me feel good)\n",
            "(If I make you feel good, you make me feel good)\n",
            "If I make you feel good, they tell me you'll never hurt me\n",
            "That I'll never let you down\n",
            "You say, you say, you say, you say\n",
            "(This is how he said it)\n",
            "That I'll stay till the end of time\n",
            "(This is how he said it)\n",
            "To get a new start\n",
            "(You say, you say)\n",
            "When they say so much, you say\n",
            "(You say)\n",
            "(You say)\n",
            "(You say)\n",
            "(You say)\n",
            "(You say)\n",
            "(You say)\n",
            "(You say)\n",
            "You do, you say\n",
            "(You say?)\n",
            "(You say)\n",
            "(You say)\n",
            "(You say)\n",
            "(You say)\n",
            "(You say)\n",
            "(You say)\n",
            "I will not be\n",
            "(But when they say so much, you mean to say)\n",
            "This is how they say to me\n",
            "(When they say so much, you say to me)\n",
            "They put out the truth,\n",
            "If we do it, we can get\n",
            "This message, and I will not let you go\n",
            "It's so hard, you said so many things,\n",
            "Well to tell me who and what to trust, it's hard\n",
            "You said you were feeling alright\n",
            "And I believe you say\n",
            "(That you'll stay forever)\n",
            "(That you'll stay forever)I've been with you for twenty thousand miles\n",
            "(Ten to twenty hundred miles)\n",
            "If you don't give me some,\n",
            "I would rather waste it on you for a while\n",
            "(Maybe I'll call you, when the world knows that you're strong)\n",
            "\n",
            "[410 | 966.37] loss=2.07 avg=2.39\n",
            "[420 | 989.41] loss=2.29 avg=2.38\n",
            "[430 | 1012.46] loss=1.92 avg=2.37\n",
            "[440 | 1035.50] loss=1.84 avg=2.36\n",
            "[450 | 1058.53] loss=2.25 avg=2.35\n",
            "[460 | 1081.57] loss=2.34 avg=2.35\n",
            "[470 | 1104.61] loss=2.76 avg=2.36\n",
            "[480 | 1127.62] loss=2.47 avg=2.37\n",
            "[490 | 1150.65] loss=2.17 avg=2.36\n",
            "[500 | 1173.68] loss=2.68 avg=2.37\n",
            "Saving checkpoint/run1/model-500\n",
            "[510 | 1199.63] loss=2.21 avg=2.37\n",
            "[520 | 1222.78] loss=2.19 avg=2.36\n",
            "[530 | 1245.79] loss=2.33 avg=2.36\n",
            "[540 | 1268.76] loss=2.41 avg=2.36\n",
            "[550 | 1291.81] loss=2.62 avg=2.37\n",
            "[560 | 1314.88] loss=2.25 avg=2.36\n",
            "[570 | 1337.96] loss=2.41 avg=2.37\n",
            "[580 | 1361.05] loss=2.47 avg=2.37\n",
            "[590 | 1384.11] loss=1.74 avg=2.35\n",
            "[600 | 1407.15] loss=2.26 avg=2.35\n",
            "======== SAMPLE 1 ========\n",
            "umin my love\n",
            "Ooh, oh, I love you\n",
            "A-aye (aye)\n",
            "Ehhh baby, ehhh baby\n",
            "Baby, baby, hey baby\n",
            "Ooh, baby, uh-haye-ee, baby!\n",
            "A-aye baby\n",
            "So baby baby, do you (ah-oh)\n",
            "A-aye, do you (oh-oh)\n",
            "Ehh baby (A-aye!)\n",
            "And I love when you do\n",
            "A-aye, ooh, I love you (ah-oh)\n",
            "Ooh, baby, ooh, baby baby\n",
            "Oh, oh, I love you\n",
            "A-aye baby\n",
            "Hey baby baby\n",
            "Yeah, ooh baby, I love\n",
            "A-aye baby\n",
            "So baby baby, do you (ah-oh) (A-aye baby)\n",
            "And I love when you do\n",
            "A-aye, ooh (A-aye baby)\n",
            "A-aye, oh, a-aye Baby (baby)\n",
            "A-aye, a-aye Baby\n",
            "Yeah baby, baby, ah-a-a-ha-uh (ah-a-a-ha-uh)\n",
            "A-aye baby\n",
            "A-aye, so baby baby\n",
            "Yeah, a-aye\n",
            "Hey baby baby\n",
            "I'm just like a dancer with the rhythm\n",
            "Wings gonna swing and holler and turn and go, to a groove\n",
            "Skiing and playing games with the ball\n",
            "It feels so good\n",
            "Yeah (yeah)\n",
            "You better stay out late and play a little late\n",
            "(You better stay out late, stay out late)\n",
            "A-aye (a-aye)\n",
            "Woooooooo\n",
            "I could feel you dancing and I could feel your body on me, oh oh oh oh oh yeah, oh oh oh oh yeah, oh oh oh oh yeah\n",
            "Hey baby baby\n",
            "Heehh, hoooo, ooh, ooh\n",
            "A-AY, ooh, oh, a-aye baby\n",
            "A-aye baby\n",
            "Hey, baby, baby, I love\n",
            "A-aye baby\n",
            "She's like my little sister\n",
            "Ooh baby, oh baby, ooh, ooh, ah (uh-h)\n",
            "A-aye, ehh, ooh, ah, a-aye Baby\n",
            "A-aye baby\n",
            "Oh, baby, a-aye Baby\n",
            "Hey baby baby\n",
            "Hey baby baby\n",
            "Skiing and play games with the ball, I could feel you on me\n",
            "(Oh baby)\n",
            "A-aye, ooh, the rhythm, I-could feel you\n",
            "A-aye, a-aye, ah, a-aye Baby\n",
            "A-aye baby\n",
            "Heeh, hooooooooooo\n",
            "I could feel your body on me, ah I could feel your body on me, oh\n",
            "A-ay, ooh, oh oh, a-aye Baby\n",
            "A-aye baby\n",
            "Woah, ooh, ooh, ah (uh-h)\n",
            "A-aye, a-ayeI was born out a million years ago\n",
            "In a room of nothing (I was born out a million years ago)\n",
            "You have to find a way of keeping the love coming true (you've got to do it)\n",
            "But there's always someone else\n",
            "'Lucky' to have this love\n",
            "'Hate' to let me go (oh)\n",
            "A-ay, uhh, uhh, ah, a-aye Baby\n",
            "A-aye baby\n",
            "I was born out a million years ago\n",
            "And there's always somebody else\n",
            "'Lucky' to keep my love\n",
            "'Hate' to let us go (ou oh)\n",
            "The love always flows so true\n",
            "With my love, so true\n",
            "I used to say\n",
            "Oh baby\n",
            "That we both need love (oh yeah)\n",
            "We both love like angels (oh oh)\n",
            "(When you hold my hand)\n",
            "'Hate' to let me go\n",
            "A-ay, uhh, uhh, ah, a-aye Baby\n",
            "A-aye baby\n",
            "I was born out a million years ago\n",
            "As you're driving by\n",
            "In a car we can be together forever\n",
            "(A-aye) oh yeah\n",
            "(A-aye) no no\n",
            "Ah ooh\n",
            "(A-aye) oh yeah\n",
            "I was born out a million years ago\n",
            "So we can be a million years of separation\n",
            "'Hate' to let one fall in love\n",
            "'Hate' to let us go\n",
            "A-ay, uhh, uhh, ah, a-aye Baby\n",
            "A-aye baby\n",
            "I was born out a million years ago\n",
            "So I'm your girlfriend\n",
            "So you can sleep with my baby, if you dream a dream\n",
            "Don't worry baby\n",
            "'Hate' to let us go\n",
            "A-ay, ooh, ooh, ah, a-aye Baby\n",
            "A-aye baby\n",
            "I was born out a million years ago\n",
            "\n",
            "[610 | 1439.39] loss=2.07 avg=2.35\n",
            "[620 | 1462.40] loss=2.26 avg=2.34\n",
            "[630 | 1485.46] loss=2.83 avg=2.35\n",
            "[640 | 1508.52] loss=2.08 avg=2.35\n",
            "[650 | 1531.60] loss=2.24 avg=2.35\n",
            "[660 | 1554.71] loss=2.39 avg=2.35\n",
            "[670 | 1577.80] loss=2.13 avg=2.34\n",
            "[680 | 1600.84] loss=2.22 avg=2.34\n",
            "[690 | 1623.88] loss=2.10 avg=2.34\n",
            "[700 | 1646.92] loss=2.43 avg=2.34\n",
            "[710 | 1669.91] loss=2.61 avg=2.34\n",
            "[720 | 1692.95] loss=2.28 avg=2.34\n",
            "[730 | 1716.01] loss=2.27 avg=2.34\n",
            "[740 | 1739.07] loss=2.42 avg=2.34\n",
            "[750 | 1762.16] loss=2.24 avg=2.34\n",
            "[760 | 1785.24] loss=1.85 avg=2.33\n",
            "[770 | 1808.28] loss=2.39 avg=2.33\n",
            "[780 | 1831.34] loss=2.34 avg=2.33\n",
            "[790 | 1854.35] loss=2.33 avg=2.33\n",
            "[800 | 1877.37] loss=1.97 avg=2.33\n",
            "======== SAMPLE 1 ========\n",
            " say your heart is breaking down\n",
            "And the love I want will stay strong\n",
            "I'm holding back\n",
            "Just take control of your heart\n",
            "So I gotta try\n",
            "I gotta try to breathe,\n",
            "Let me take control\n",
            "So I gotta try\n",
            "I gotta try\n",
            "My hearts are breaking down\n",
            "And the love I want will stay strong\n",
            "I'm holding back\n",
            "Just take control of your heart\n",
            "I gotta try\n",
            "I gotta try\n",
            "I gotta try\n",
            "I gotta tryYou always said that you would wait\n",
            "But just because you're older\n",
            "It doesn't mean it's no longer true\n",
            "And don't you think just because you're older?\n",
            "'Cause I've been there\n",
            "Said I'll be through\n",
            "Maybe I'll never find\n",
            "When I'm older\n",
            "Said I'll never find\n",
            "When I'm younger\n",
            "I'll be your old man\n",
            "Said you always said it's time to leave\n",
            "So just sit back\n",
            "Said I'll be through\n",
            "Maybe I'll never find\n",
            "And don't you think just because you're older?\n",
            "'Cause I've been there\n",
            "Said I'll be through\n",
            "Maybe I'll never find\n",
            "When I'm younger\n",
            "Said I'll be through (cause baby I've been there)\n",
            "Maybe I'll never find\n",
            "When I'm younger\n",
            "When I was younger\n",
            "Said I'll be through\n",
            "Maybe I'll never find\n",
            "When I'm younger\n",
            "Did I ever really wait for you (until you were older)\n",
            "I thought you'd stay by my side\n",
            "All the time, waiting for the day, to shine\n",
            "'Cause I've been there\n",
            "Said I'll be through\n",
            "Maybe I'll never find\n",
            "When I'm younger\n",
            "Said I'll be through (cause baby I've been there)\n",
            "Maybe I'll never find\n",
            "When I'm younger (baby I've been there)\n",
            "And don't you think just because you're older?\n",
            "I've been there\n",
            "Said I'll be through (yeah)\n",
            "Maybe I'll never find (when I'm younger)\n",
            "When I'm younger\n",
            "Did I ever really wait for you\n",
            "I thought you'd stay by my sideI've got two arms, two legs,\n",
            "And two hearts, two hearts, a love that's too cold\n",
            "And I've got my own dream, a love all the way\n",
            "And I need that love, you know, that's right\n",
            "And I think the same thing's true\n",
            "You don't have to ask, you can take it on\n",
            "And this is my wish that's all true, that's all true, that's all true\n",
            "I've got a love, all true, all true love\n",
            "I've learned one thing about love, and it's the way it's meant to be,\n",
            "You don't have to ask, you can take it on\n",
            "And this is my wish that's all true, that's all true, that's all true\n",
            "You don't have to ask, you can take it on\n",
            "And this is my wish that's all true, that's all true\n",
            "You don't have to ask, you can take it on\n",
            "And this is my wish that's all true, that's all true, that's all true\n",
            "I've got a love, all true, all true love\n",
            "I've learned one lesson from love, and it's the way it's meant to be,\n",
            "You don't have to ask, you can take it on\n",
            "And this is my wish that's all true, that's all true, that's all true\n",
            "You don't have to say it\n",
            "You can take it on\n",
            "So, this is my wish, I'm just you, I won't ask\n",
            "I'll tell you every night, that day is my wish\n",
            "We'll never get tired\n",
            "You know you can't be alone\n",
            "You know you can't be alone\n",
            "And not tonight, baby\n",
            "I'm holding on to my hearts right now\n",
            "All the love that you've shown me will be true, I can't deny\n",
            "I'm gonna give my love to you\n",
            "This is my wish I'm just you\n",
            "This is my wish, I'm just youI've lost our time\n",
            "We cannot understand why the night fell\n",
            "It's as if your name was on my mind\n",
            "For I have cried tears of joy\n",
            "I've lost my way\n",
            "And I know it won't stop\n",
            "I remember all the days with you\n",
            "And the love that I've felt\n",
            "When you and I were strangers\n",
            "But you gave me strength to try\n",
            "And I hope it will never end\n",
            "You put my heart on hold\n",
            "And I will never let this pain end\n",
            "That is all I can say\n",
            "(There will never end)\n",
            "There will never end\n",
            "That is all I can say\n",
            "(There will never end)\n",
            "There will never stopI remember all the nights with you\n",
            "And the love that I've felt\n",
            "When you and I were strangers\n",
            "But you gave me strength\n",
            "To try and I hope it will never end\n",
            "\n",
            "[810 | 1909.67] loss=2.39 avg=2.33\n",
            "[820 | 1932.77] loss=2.36 avg=2.33\n",
            "[830 | 1955.89] loss=2.43 avg=2.33\n",
            "[840 | 1979.00] loss=1.90 avg=2.32\n",
            "[850 | 2002.08] loss=2.50 avg=2.32\n",
            "[860 | 2025.11] loss=2.54 avg=2.33\n",
            "[870 | 2048.10] loss=2.41 avg=2.33\n",
            "[880 | 2071.08] loss=1.99 avg=2.32\n",
            "[890 | 2094.08] loss=2.35 avg=2.32\n",
            "[900 | 2117.13] loss=2.55 avg=2.33\n",
            "[910 | 2140.18] loss=2.24 avg=2.33\n",
            "[920 | 2163.26] loss=2.61 avg=2.33\n",
            "[930 | 2186.32] loss=2.33 avg=2.33\n",
            "[940 | 2209.37] loss=2.26 avg=2.33\n",
            "[950 | 2232.41] loss=2.67 avg=2.34\n",
            "[960 | 2255.45] loss=2.32 avg=2.34\n",
            "[970 | 2278.47] loss=1.95 avg=2.33\n",
            "[980 | 2301.49] loss=2.17 avg=2.33\n",
            "[990 | 2324.54] loss=2.07 avg=2.32\n",
            "[1000 | 2347.64] loss=2.46 avg=2.32\n",
            "Saving checkpoint/run1/model-1000\n",
            "WARNING:tensorflow:From /tensorflow-1.15.2/python3.7/tensorflow_core/python/training/saver.py:963: remove_checkpoint (from tensorflow.python.training.checkpoint_management) is deprecated and will be removed in a future version.\n",
            "Instructions for updating:\n",
            "Use standard file APIs to delete files with this prefix.\n"
          ],
          "name": "stdout"
        }
      ]
    },
    {
      "cell_type": "markdown",
      "metadata": {
        "id": "IXSuTNERaw6K"
      },
      "source": [
        "After the model is trained, you can copy the checkpoint folder to your own Google Drive.\n",
        "\n",
        "If you want to download it to your personal computer, it's strongly recommended you copy it there first, then download from Google Drive. The checkpoint folder is copied as a `.rar` compressed file; you can download it and uncompress it locally."
      ]
    },
    {
      "cell_type": "code",
      "metadata": {
        "id": "VHdTL8NDbAh3"
      },
      "source": [
        "gpt2.copy_checkpoint_to_gdrive(run_name='run1')"
      ],
      "execution_count": null,
      "outputs": []
    },
    {
      "cell_type": "markdown",
      "metadata": {
        "id": "qQJgV_b4bmzd"
      },
      "source": [
        "You're done! Feel free to go to the **Generate Text From The Trained Model** section to generate text based on your retrained model."
      ]
    },
    {
      "cell_type": "markdown",
      "metadata": {
        "id": "pel-uBULXO2L"
      },
      "source": [
        "## Load a Trained Model Checkpoint\n",
        "\n",
        "Running the next cell will copy the `.rar` checkpoint file from your Google Drive into the Colaboratory VM."
      ]
    },
    {
      "cell_type": "code",
      "metadata": {
        "id": "DCcx5u7sbPTD"
      },
      "source": [
        "gpt2.copy_checkpoint_from_gdrive(run_name='run1')"
      ],
      "execution_count": null,
      "outputs": []
    },
    {
      "cell_type": "markdown",
      "metadata": {
        "id": "RTa6zf3e_9gV"
      },
      "source": [
        "The next cell will allow you to load the retrained model checkpoint + metadata necessary to generate text.\n",
        "\n",
        "**IMPORTANT NOTE:** If you want to rerun this cell, **restart the VM first** (Runtime -> Restart Runtime). You will need to rerun imports but not recopy files."
      ]
    },
    {
      "cell_type": "code",
      "metadata": {
        "id": "-fxL77nvAMAX",
        "colab": {
          "base_uri": "https://localhost:8080/"
        },
        "outputId": "d56b0468-b8df-400e-9c04-f6fd0cd52dfa"
      },
      "source": [
        "sess = gpt2.start_tf_sess()\n",
        "gpt2.load_gpt2(sess, run_name='run1')"
      ],
      "execution_count": null,
      "outputs": [
        {
          "output_type": "stream",
          "text": [
            "Loading checkpoint checkpoint/run1/model-1000\n",
            "INFO:tensorflow:Restoring parameters from checkpoint/run1/model-1000\n"
          ],
          "name": "stdout"
        }
      ]
    },
    {
      "cell_type": "markdown",
      "metadata": {
        "id": "ClJwpF_ACONp"
      },
      "source": [
        "## Generate Text From The Trained Model\n",
        "\n",
        "After you've trained the model or loaded a retrained model from checkpoint, you can now generate text. `generate` generates a single text from the loaded model."
      ]
    },
    {
      "cell_type": "code",
      "metadata": {
        "id": "4RNY6RBI9LmL",
        "colab": {
          "base_uri": "https://localhost:8080/"
        },
        "outputId": "782ff4ec-7525-4753-c1b6-9353a297ce81"
      },
      "source": [
        "gpt2.generate(sess, run_name='run1')"
      ],
      "execution_count": null,
      "outputs": [
        {
          "output_type": "stream",
          "text": [
            "It takes too long for me to say\n",
            "How much I miss you\n",
            "You don't know, no one could ever tell you\n",
            "What it's all about\n",
            "Oh baby, don't you give up\n",
            "I've been waiting for you to come back\n",
            "I've been waiting for you to come back\n",
            "It takes too long for me to say\n",
            "How much I miss you\n",
            "You don't know, no one could ever tell you\n",
            "What it's all about\n",
            "Oh baby, don't you give up\n",
            "I've been waiting for you to come back\n",
            "I've been waiting for you to come back\n",
            "It takes too long for me to say\n",
            "How much I miss you\n",
            "You don't know, no one could ever tell you\n",
            "What it's all about, no one could ever tell you\n",
            "What it's all about\n",
            "Oh baby, don't you give up\n",
            "I've been waiting for you to come back\n",
            "I've been waiting for you to come back\n",
            "It takes too long for me to say\n",
            "How much I miss you\n",
            "You don't know, no one could ever tell you\n",
            "What it's all about\n",
            "Oh baby, don't you give up\n",
            "I've been waiting for you to come back\n",
            "I've been waiting for you to come back\n",
            "It takes too long for me to say\n",
            "How much I miss you\n",
            "You don't know, no one could ever tell you\n",
            "What it's all about\n",
            "Oh baby, don't you give up\n",
            "I've been waiting for you to come back\n",
            "I've been waiting for you to come back\n",
            "It takes too long for me to say\n",
            "How much I miss you\n",
            "You don't know, no one could ever tell you\n",
            "What it's all about\n",
            "Oh baby, don't you give up\n",
            "I've been waiting for you to come back\n",
            "I've been waiting for you to come back\n",
            "It takes too long for me to say\n",
            "How much I miss you\n",
            "You don't know, no one could ever tell you\n",
            "What it's all about\n",
            "Oh baby, don't you give up\n",
            "I've been waiting for you to come back\n",
            "I've been waiting for you to come back\n",
            "It takes too long for me to say\n",
            "How much I miss you\n",
            "You don't know, no one could ever tell you\n",
            "What it's all about\n",
            "Oh baby, don't you give up\n",
            "I've been waiting for you to come back\n",
            "I've been waiting for you to come back\n",
            "It takes too long for me to say\n",
            "How much I miss you\n",
            "You don't know, no one could ever tell you\n",
            "What it's all about\n",
            "Oh baby, don't you give up\n",
            "I've been waiting for you to come back\n",
            "I've been waiting for you to come back\n",
            "It takes too long for me to say\n",
            "How much I miss you\n",
            "You don't know, no one could ever tell you\n",
            "What it's all about\n",
            "Oh baby, don't you give up\n",
            "I've been waiting for you to come back\n",
            "I've been waiting for you to come back\n",
            "It takes too long for me to say\n",
            "How much I miss you\n",
            "You don't know, no one could ever tell you\n",
            "What it's all about\n",
            "Oh baby, don't you give up\n",
            "I've been waiting for you to come back\n",
            "I've been waiting for you to come back\n",
            "It takes too long for me to say\n",
            "How much I miss you\n",
            "You don't know, no one could ever tell you\n",
            "What it's all about\n",
            "Oh baby, don't you give up\n",
            "I've been waiting for you to come back\n",
            "I've been waiting for you to come back\n",
            "It takes too long for me to say\n",
            "How much I miss you\n",
            "You don't know, no one could ever tell you\n",
            "What it's all about\n",
            "Oh baby, don't you give up\n",
            "I've been waiting for you to come back\n",
            "I've been waiting for you to come back\n",
            "It takes too long for me to say\n",
            "How much I miss you\n",
            "You don't know, no one could ever tell you\n",
            "What it's all about\n",
            "Oh baby, don't you give up\n",
            "I've been waiting for you to come back\n",
            "I've been waiting for you to come back\n",
            "It takes too long for me to say\n",
            "How much I miss you\n",
            "You don't know, no one could ever tell you\n",
            "What it's all about\n",
            "Oh baby, don't you give up\n",
            "I've been waiting for you to come back\n",
            "I've been waiting for you to come back\n",
            "It takes too long for me to say\n",
            "How much I miss you\n",
            "You don't know, no one could ever tell you\n",
            "What it's all about\n",
            "Oh baby, don't you give up\n",
            "I've been waiting for you to come back\n",
            "I've been waiting for you to come back\n",
            "It takes too long for me to say\n",
            "How much I miss you\n",
            "You don't\n"
          ],
          "name": "stdout"
        }
      ]
    },
    {
      "cell_type": "markdown",
      "metadata": {
        "id": "oF4-PqF0Fl7R"
      },
      "source": [
        "If you're creating an API based on your model and need to pass the generated text elsewhere, you can do `text = gpt2.generate(sess, return_as_list=True)[0]`\n",
        "\n",
        "You can also pass in a `prefix` to the generate function to force the text to start with a given character sequence and generate text from there (good if you add an indicator when the text starts).\n",
        "\n",
        "You can also generate multiple texts at a time by specifing `nsamples`. Unique to GPT-2, you can pass a `batch_size` to generate multiple samples in parallel, giving a massive speedup (in Colaboratory, set a maximum of 20 for `batch_size`).\n",
        "\n",
        "Other optional-but-helpful parameters for `gpt2.generate` and friends:\n",
        "\n",
        "*  **`length`**: Number of tokens to generate (default 1023, the maximum)\n",
        "* **`temperature`**: The higher the temperature, the crazier the text (default 0.7, recommended to keep between 0.7 and 1.0)\n",
        "* **`top_k`**: Limits the generated guesses to the top *k* guesses (default 0 which disables the behavior; if the generated output is super crazy, you may want to set `top_k=40`)\n",
        "* **`top_p`**: Nucleus sampling: limits the generated guesses to a cumulative probability. (gets good results on a dataset with `top_p=0.9`)\n",
        "* **`truncate`**: Truncates the input text until a given sequence, excluding that sequence (e.g. if `truncate='<|endoftext|>'`, the returned text will include everything before the first `<|endoftext|>`). It may be useful to combine this with a smaller `length` if the input texts are short.\n",
        "*  **`include_prefix`**: If using `truncate` and `include_prefix=False`, the specified `prefix` will not be included in the returned text."
      ]
    },
    {
      "cell_type": "code",
      "metadata": {
        "id": "8DKMc0fiej4N",
        "colab": {
          "base_uri": "https://localhost:8080/"
        },
        "outputId": "9ebace78-171b-4675-c710-78766723f544"
      },
      "source": [
        "gpt2.generate(sess,\n",
        "              length=250,\n",
        "              temperature=0.95,\n",
        "              prefix=\"I want\",\n",
        "              nsamples=5,\n",
        "          #    batch_size=5\n",
        "              )"
      ],
      "execution_count": null,
      "outputs": [
        {
          "output_type": "stream",
          "text": [
            "I want to burn with you\n",
            "I want to burn without any for the love that you give to me\n",
            "You're the one I wish for\n",
            "I want to get on the ground\n",
            "I mean it\n",
            "(So be it)\n",
            "I'm mine and I'm yours\n",
            "I can't stand to lose it\n",
            "I want to burn with you\n",
            "I want to burn without any for the love that you give to me\n",
            "You're the one I wish forThis my day and I just wanted to let go to live another day\n",
            "I'm letting go of all my worries and all of my hopes\n",
            "A year left after giving up the one thing I would love\n",
            "Knowing my promise I had left me all at the table\n",
            "And I can hide away its not the place to be\n",
            "It's just a matter of leaving me and not being around\n",
            "And I can hide everything from the pain it takes\n",
            "Just to look into my eyes and not to see as much\n",
            "I'm living the thought that I do to let it stand\n",
            "Knowing my promises I left me all at the table\n",
            "And I can hide away its not the place to be\n",
            "It's just a matter of leaving me and not being around\n",
            "And I can hide everything from the\n",
            "====================\n",
            "I want them to know I love them\n",
            "When you guy's on the do-dah-dah (right there)\n",
            "I want them to know (I want them to know)\n",
            "I want them to know I love them\n",
            "When you guys (man)\n",
            "I want them to know I love them\n",
            "I want them to know I love them\n",
            "When you guys (men)\n",
            "I like your smoke mornin' but I want you to take it, sugar\n",
            "[Chorus:\n",
            "Fallin' down like that]\n",
            "And if we can make this love be crazy high\n",
            "And if black and white's up\n",
            "And if you can dream good dreams, if blue like me\n",
            "Because throwing alcohol in the bayou doesn't make God\n",
            "And if you can crush the worlds\n",
            "And if you think about you, try to think of you\n",
            "Because throwing alcohol in the bayou is worse, and I\n",
            "And if we can make this love be crazy high\n",
            "Cause I want them to know I love them[Verse 2/3]\n",
            "Once you come back in line you can shake this new style\n",
            "[Bridge: ]\n",
            "Biting\n",
            "Our bodies could break every other thing\n",
            "And you stupid people he\n",
            "====================\n",
            "I want to be your girl\n",
            "When you wear your white dress\n",
            "Have your mind for a Sunday afternoon\n",
            "Sit and sit alone in the garden\n",
            "And we got to lie under the moonlight\n",
            "I need to be your girl\n",
            "When you have your mind for a Sunday afternoon\n",
            "Sit and sit alone in the garden\n",
            "And we got to hold our tongues when we move\n",
            "I want to be your girl\n",
            "When you have your mind for a Sunday afternoon\n",
            "The turn is in and you want to be your girl\n",
            "When you sing that song\n",
            "Now what am I to do?\n",
            "I'm going home, away, nowhere, somewhere\n",
            "The scraggers are calling are calling, they say I'm a poison\n",
            "For wishing that I had never got here before\n",
            "But I can't mistake for a real book, it'll be better\n",
            "I'm destined to travel where the moon's gonna shine\n",
            "Holding on to need that rest\n",
            "Liverwood is toward North Carolina tonight\n",
            "And I'm dying too, I need a doctor tonight\n",
            "I need a doctor, don't you feel the echoes\n",
            "Liverwood is toward North Carolina tonightA longing throes within you both\n",
            "My eyes moving up and down in a loneliness I never\n",
            "====================\n",
            "I want to know why wishes Mars higher\n",
            "I want to be with somebody\n",
            "I want to be with somebody\n",
            "I want to be with somebody\n",
            "(Is there anybody higher than me?)\n",
            "I want to be with somebody\n",
            "I want to be with somebody\n",
            "I want to be with somebody\n",
            "(Is there anybody higher than me?)\n",
            "I want to be with somebodyPara nance pouenis fut t's\n",
            "Ponenis ook loukeri, melo dial\n",
            "Nando isse, mollaphe doon limitt\n",
            "Voui amne,ëre x ol ma\n",
            "Free heurejiena,alha loukerije, ma\n",
            "Dirkije etke aa, ka sabbute\n",
            "Dro ba, kkajaghdivonde,kuhmamha vroue\n",
            "I might, I might not\n",
            "It's a question of time\n",
            "But I'm the one that I'm choosing\n",
            "I'm running with caution.\n",
            "If I'm running like that, remember, I run like a wild goose\n",
            "I'm running with caution. I'm running with caution.I'm trying to set the fire\n",
            "Looking for a place to hide myself\n",
            "Somehow\n",
            "====================\n",
            "I want to be this guy I could hold on\n",
            "But he's gone and he's gone\n",
            "Boys are gonna change the way I look at you\n",
            "I'll be just fine\n",
            "I'm just gonna be\n",
            "Boys are gonna change the way I look at you\n",
            "I don't like being young, it's not a good look for a 15 year old\n",
            "We came here as young as we can make it\n",
            "Boy, his life could not have been more wasted\n",
            "What do I do when I'm around girls so young?\n",
            "You know who you grow up to be trying to impress\n",
            "Why should it be too hard for a guy to be perfect?\n",
            "I want to be that guy I could hold on\n",
            "But he's gone and he's gone\n",
            "Boys are gonna change the way I look at you\n",
            "I'll be just fine\n",
            "I'm just gonna be\n",
            "Boys are gonna change the way I look at you\n",
            "I don't like being young, it's not a good look for a 15 year old\n",
            "We came here as young as we can make it\n",
            "Boy, his life could not have been more wasted\n",
            "What do I do when I'm around girls so young?\n",
            "You know who you grow up\n",
            "====================\n"
          ],
          "name": "stdout"
        }
      ]
    },
    {
      "cell_type": "markdown",
      "metadata": {
        "id": "zjjEN2Tafhl2"
      },
      "source": [
        "For bulk generation, you can generate a large amount of text to a file and sort out the samples locally on your computer. The next cell will generate a generated text file with a unique timestamp.\n",
        "\n",
        "You can rerun the cells as many times as you want for even more generated texts!"
      ]
    },
    {
      "cell_type": "code",
      "metadata": {
        "id": "Fa6p6arifSL0"
      },
      "source": [
        "gen_file = 'gpt2_gentext_{:%Y%m%d_%H%M%S}.txt'.format(datetime.utcnow())\n",
        "\n",
        "gpt2.generate_to_file(sess,\n",
        "                      destination_path=gen_file,\n",
        "                      length=500,\n",
        "                      temperature=0.7,\n",
        "                      nsamples=100,\n",
        "                      batch_size=20\n",
        "                      )"
      ],
      "execution_count": null,
      "outputs": []
    },
    {
      "cell_type": "code",
      "metadata": {
        "id": "0-LRex8lfv1g"
      },
      "source": [
        "# may have to run twice to get file to download\n",
        "files.download(gen_file)"
      ],
      "execution_count": null,
      "outputs": []
    },
    {
      "cell_type": "markdown",
      "metadata": {
        "id": "QQAN3M6RT7Kj"
      },
      "source": [
        "## Generate Text From The Pretrained Model\n",
        "\n",
        "If you want to generate text from the pretrained model, not a finetuned model, pass `model_name` to `gpt2.load_gpt2()` and `gpt2.generate()`.\n",
        "\n",
        "This is currently the only way to generate text from the 774M or 1558M models with this notebook."
      ]
    },
    {
      "cell_type": "code",
      "metadata": {
        "id": "hsUd_jHgUZnD",
        "colab": {
          "base_uri": "https://localhost:8080/",
          "height": 158
        },
        "outputId": "4e0c8a3f-3527-41c4-e3fe-3357f3f8f6c2"
      },
      "source": [
        "model_name = \"774M\"\n",
        "\n",
        "gpt2.download_gpt2(model_name=model_name)"
      ],
      "execution_count": null,
      "outputs": [
        {
          "output_type": "stream",
          "text": [
            "Fetching checkpoint: 1.05Mit [00:00, 354Mit/s]                                                      \n",
            "Fetching encoder.json: 1.05Mit [00:00, 131Mit/s]                                                    \n",
            "Fetching hparams.json: 1.05Mit [00:00, 279Mit/s]                                                    \n",
            "Fetching model.ckpt.data-00000-of-00001: 3.10Git [00:23, 131Mit/s]                                  \n",
            "Fetching model.ckpt.index: 1.05Mit [00:00, 380Mit/s]                                                \n",
            "Fetching model.ckpt.meta: 2.10Mit [00:00, 226Mit/s]                                                 \n",
            "Fetching vocab.bpe: 1.05Mit [00:00, 199Mit/s]                                                       \n"
          ],
          "name": "stderr"
        }
      ]
    },
    {
      "cell_type": "code",
      "metadata": {
        "id": "BAe4NpKNUj2C",
        "colab": {
          "base_uri": "https://localhost:8080/",
          "height": 124
        },
        "outputId": "b09bfe1d-2ff8-4b8a-fffb-273d28d5d4ae"
      },
      "source": [
        "sess = gpt2.start_tf_sess()\n",
        "\n",
        "gpt2.load_gpt2(sess, model_name=model_name)"
      ],
      "execution_count": null,
      "outputs": [
        {
          "output_type": "stream",
          "text": [
            "WARNING: Logging before flag parsing goes to stderr.\n",
            "W0828 18:37:58.571830 139905369159552 deprecation.py:323] From /usr/local/lib/python3.6/dist-packages/tensorflow/python/training/saver.py:1276: checkpoint_exists (from tensorflow.python.training.checkpoint_management) is deprecated and will be removed in a future version.\n",
            "Instructions for updating:\n",
            "Use standard file APIs to check for files with this prefix.\n"
          ],
          "name": "stderr"
        },
        {
          "output_type": "stream",
          "text": [
            "Loading pretrained model models/774M/model.ckpt\n"
          ],
          "name": "stdout"
        }
      ]
    },
    {
      "cell_type": "code",
      "metadata": {
        "id": "-xInIZKaU104",
        "colab": {
          "base_uri": "https://localhost:8080/",
          "height": 239
        },
        "outputId": "a9f93e2f-9816-4ed0-e904-a60296411f36"
      },
      "source": [
        "gpt2.generate(sess,\n",
        "              model_name=model_name,\n",
        "              prefix=\"The secret of life is\",\n",
        "              length=100,\n",
        "              temperature=0.7,\n",
        "              top_p=0.9,\n",
        "              nsamples=5,\n",
        "              batch_size=5\n",
        "              )"
      ],
      "execution_count": null,
      "outputs": [
        {
          "output_type": "error",
          "ename": "NameError",
          "evalue": "ignored",
          "traceback": [
            "\u001b[0;31m---------------------------------------------------------------------------\u001b[0m",
            "\u001b[0;31mNameError\u001b[0m                                 Traceback (most recent call last)",
            "\u001b[0;32m<ipython-input-12-140a307abd17>\u001b[0m in \u001b[0;36m<module>\u001b[0;34m()\u001b[0m\n\u001b[1;32m      1\u001b[0m gpt2.generate(sess,\n\u001b[0;32m----> 2\u001b[0;31m               \u001b[0mmodel_name\u001b[0m\u001b[0;34m=\u001b[0m\u001b[0mmodel_name\u001b[0m\u001b[0;34m,\u001b[0m\u001b[0;34m\u001b[0m\u001b[0;34m\u001b[0m\u001b[0m\n\u001b[0m\u001b[1;32m      3\u001b[0m               \u001b[0mprefix\u001b[0m\u001b[0;34m=\u001b[0m\u001b[0;34m\"The secret of life is\"\u001b[0m\u001b[0;34m,\u001b[0m\u001b[0;34m\u001b[0m\u001b[0;34m\u001b[0m\u001b[0m\n\u001b[1;32m      4\u001b[0m               \u001b[0mlength\u001b[0m\u001b[0;34m=\u001b[0m\u001b[0;36m100\u001b[0m\u001b[0;34m,\u001b[0m\u001b[0;34m\u001b[0m\u001b[0;34m\u001b[0m\u001b[0m\n\u001b[1;32m      5\u001b[0m               \u001b[0mtemperature\u001b[0m\u001b[0;34m=\u001b[0m\u001b[0;36m0.7\u001b[0m\u001b[0;34m,\u001b[0m\u001b[0;34m\u001b[0m\u001b[0;34m\u001b[0m\u001b[0m\n",
            "\u001b[0;31mNameError\u001b[0m: name 'model_name' is not defined"
          ]
        }
      ]
    },
    {
      "cell_type": "markdown",
      "metadata": {
        "id": "ig-KVgkCDCKD"
      },
      "source": [
        "# Etcetera\n",
        "\n",
        "If the notebook has errors (e.g. GPU Sync Fail), force-kill the Colaboratory virtual machine and restart it with the command below:"
      ]
    },
    {
      "cell_type": "code",
      "metadata": {
        "id": "rIHiVP53FnsX"
      },
      "source": [
        "!kill -9 -1"
      ],
      "execution_count": null,
      "outputs": []
    },
    {
      "cell_type": "markdown",
      "metadata": {
        "id": "wmTXWNUygS5E"
      },
      "source": [
        "# LICENSE\n",
        "\n",
        "MIT License\n",
        "\n",
        "Copyright (c) 2019 Max Woolf\n",
        "\n",
        "Permission is hereby granted, free of charge, to any person obtaining a copy\n",
        "of this software and associated documentation files (the \"Software\"), to deal\n",
        "in the Software without restriction, including without limitation the rights\n",
        "to use, copy, modify, merge, publish, distribute, sublicense, and/or sell\n",
        "copies of the Software, and to permit persons to whom the Software is\n",
        "furnished to do so, subject to the following conditions:\n",
        "\n",
        "The above copyright notice and this permission notice shall be included in all\n",
        "copies or substantial portions of the Software.\n",
        "\n",
        "THE SOFTWARE IS PROVIDED \"AS IS\", WITHOUT WARRANTY OF ANY KIND, EXPRESS OR\n",
        "IMPLIED, INCLUDING BUT NOT LIMITED TO THE WARRANTIES OF MERCHANTABILITY,\n",
        "FITNESS FOR A PARTICULAR PURPOSE AND NONINFRINGEMENT. IN NO EVENT SHALL THE\n",
        "AUTHORS OR COPYRIGHT HOLDERS BE LIABLE FOR ANY CLAIM, DAMAGES OR OTHER\n",
        "LIABILITY, WHETHER IN AN ACTION OF CONTRACT, TORT OR OTHERWISE, ARISING FROM,\n",
        "OUT OF OR IN CONNECTION WITH THE SOFTWARE OR THE USE OR OTHER DEALINGS IN THE\n",
        "SOFTWARE."
      ]
    }
  ]
}