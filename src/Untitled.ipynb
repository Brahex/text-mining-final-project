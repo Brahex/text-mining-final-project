{
 "cells": [
  {
   "cell_type": "code",
   "execution_count": 6,
   "id": "future-possibility",
   "metadata": {},
   "outputs": [],
   "source": [
    "import pandas as pd\n",
    "##borrowing this cell to create a .txt file\n",
    "\n",
    "df_train = pd.read_csv(\"data/lyrics_sentiments.csv\") \n",
    "pop_df = df_train[df_train['genre'] == 'Pop'].dropna()\n",
    "pop_pos = pop_df[pop_df['sentiment'] == 'Positive']\n",
    "pop_neg = pop_df[pop_df['sentiment'] == 'Negative']\n",
    "pos_lyrics = list(pop_pos['lyrics'].values)\n",
    "neg_lyrics = list(pop_neg['lyrics'].values)\n",
    "textname = 'positive_pop.txt'\n",
    "textname2 = 'negative_pop.txt'\n",
    "with open(textname, 'w', encoding = 'utf-8') as f:\n",
    "    f.writelines(pos_lyrics)\n",
    "    f.close()\n",
    "with open(textname2, 'w', encoding = 'utf-8') as f:\n",
    "    f.writelines(neg_lyrics)\n",
    "    f.close()\n"
   ]
  },
  {
   "cell_type": "code",
   "execution_count": 3,
   "id": "economic-search",
   "metadata": {},
   "outputs": [
    {
     "data": {
      "text/html": [
       "<div>\n",
       "<style scoped>\n",
       "    .dataframe tbody tr th:only-of-type {\n",
       "        vertical-align: middle;\n",
       "    }\n",
       "\n",
       "    .dataframe tbody tr th {\n",
       "        vertical-align: top;\n",
       "    }\n",
       "\n",
       "    .dataframe thead th {\n",
       "        text-align: right;\n",
       "    }\n",
       "</style>\n",
       "<table border=\"1\" class=\"dataframe\">\n",
       "  <thead>\n",
       "    <tr style=\"text-align: right;\">\n",
       "      <th></th>\n",
       "      <th>index</th>\n",
       "      <th>song</th>\n",
       "      <th>year</th>\n",
       "      <th>artist</th>\n",
       "      <th>genre</th>\n",
       "      <th>lyrics</th>\n",
       "    </tr>\n",
       "  </thead>\n",
       "  <tbody>\n",
       "    <tr>\n",
       "      <th>0</th>\n",
       "      <td>0</td>\n",
       "      <td>ego-remix</td>\n",
       "      <td>2009</td>\n",
       "      <td>beyonce-knowles</td>\n",
       "      <td>Pop</td>\n",
       "      <td>Oh baby, how you doing?\\nYou know I'm gonna cu...</td>\n",
       "    </tr>\n",
       "    <tr>\n",
       "      <th>1</th>\n",
       "      <td>1</td>\n",
       "      <td>then-tell-me</td>\n",
       "      <td>2009</td>\n",
       "      <td>beyonce-knowles</td>\n",
       "      <td>Pop</td>\n",
       "      <td>playin' everything so easy,\\nit's like you see...</td>\n",
       "    </tr>\n",
       "    <tr>\n",
       "      <th>2</th>\n",
       "      <td>2</td>\n",
       "      <td>honesty</td>\n",
       "      <td>2009</td>\n",
       "      <td>beyonce-knowles</td>\n",
       "      <td>Pop</td>\n",
       "      <td>If you search\\nFor tenderness\\nIt isn't hard t...</td>\n",
       "    </tr>\n",
       "    <tr>\n",
       "      <th>3</th>\n",
       "      <td>3</td>\n",
       "      <td>you-are-my-rock</td>\n",
       "      <td>2009</td>\n",
       "      <td>beyonce-knowles</td>\n",
       "      <td>Pop</td>\n",
       "      <td>Oh oh oh I, oh oh oh I\\n[Verse 1:]\\nIf I wrote...</td>\n",
       "    </tr>\n",
       "    <tr>\n",
       "      <th>4</th>\n",
       "      <td>4</td>\n",
       "      <td>black-culture</td>\n",
       "      <td>2009</td>\n",
       "      <td>beyonce-knowles</td>\n",
       "      <td>Pop</td>\n",
       "      <td>Party the people, the people the party it's po...</td>\n",
       "    </tr>\n",
       "  </tbody>\n",
       "</table>\n",
       "</div>"
      ],
      "text/plain": [
       "   index             song  year           artist genre  \\\n",
       "0      0        ego-remix  2009  beyonce-knowles   Pop   \n",
       "1      1     then-tell-me  2009  beyonce-knowles   Pop   \n",
       "2      2          honesty  2009  beyonce-knowles   Pop   \n",
       "3      3  you-are-my-rock  2009  beyonce-knowles   Pop   \n",
       "4      4    black-culture  2009  beyonce-knowles   Pop   \n",
       "\n",
       "                                              lyrics  \n",
       "0  Oh baby, how you doing?\\nYou know I'm gonna cu...  \n",
       "1  playin' everything so easy,\\nit's like you see...  \n",
       "2  If you search\\nFor tenderness\\nIt isn't hard t...  \n",
       "3  Oh oh oh I, oh oh oh I\\n[Verse 1:]\\nIf I wrote...  \n",
       "4  Party the people, the people the party it's po...  "
      ]
     },
     "execution_count": 3,
     "metadata": {},
     "output_type": "execute_result"
    }
   ],
   "source": [
    "df_train.head()"
   ]
  },
  {
   "cell_type": "code",
   "execution_count": 7,
   "id": "complex-convert",
   "metadata": {},
   "outputs": [
    {
     "data": {
      "text/plain": [
       "[\"Oh baby, how you doing?\\nYou know I'm gonna cut right to the chase\\nSome women were made but me, myself\\nI like to think that I was created for a special purpose\\nYou know, what's more special than you? You feel me\\nIt's on baby, let's get lost\\nYou don't need to call into work 'cause you're the boss\\nFor real, want you to show me how you feel\\nI consider myself lucky, that's a big deal\\nWhy? Well, you got the key to my heart\\nBut you ain't gonna need it, I'd rather you open up my body\\nAnd show me secrets, you didn't know was inside\\nNo need for me to lie\\nIt's too big, it's too wide\\nIt's too strong, it won't fit\\nIt's too much, it's too tough\\nHe talk like this 'cause he can back it up\\nHe got a big ego, such a huge ego\\nI love his big ego, it's too much\\nHe walk like this 'cause he can back it up\\nUsually I'm humble, right now I don't choose\\nYou can leave with me or you could have the blues\\nSome call it arrogant, I call it confident\\nYou decide when you find on what I'm working with\\nDamn I know I'm killing you with them legs\\nBetter yet them thighs\\nMatter a fact it's my smile or maybe my eyes\\nBoy you a site to see, kind of something like me\\nIt's too big, it's too wide\\nIt's too strong, it won't fit\\nIt's too much, it's too tough\\nI talk like this 'cause I can back it up\\nI got a big ego, such a huge ego\\nBut he love my big ego, it's too much\\nI walk like this 'cause I can back it up\\nI, I walk like this 'cause I can back it up\\nI, I talk like this 'cause I can back it up\\nI, I can back it up, I can back it up\\nI walk like this 'cause I can back it up\\nIt's too big, it's too wide\\nIt's too strong, it won't fit\\nIt's too much, it's too tough\\nHe talk like this 'cause he can back it up\\nHe got a big ego, such a huge ego, such a huge ego\\nI love his big ego, it's too much\\nHe walk like this 'cause he can back it up\\nEgo so big, you must admit\\nI got every reason to feel like I'm that bitch\\nEgo so strong, if you ain't know\\nI don't need no beat, I can sing it with piano\",\n",
       " \"If you search\\nFor tenderness\\nIt isn't hard to find\\nYou can have the love\\nYou need to live\\nBut if you look\\nFor truthfulness\\nYou might just\\nAs well be blind\\nIt always seems to be\\nSo hard to give\\nChorus:\\nHonesty\\nIs such a lonely word\\nEveryone is so untrue\\nHonesty\\nIs hardly ever heard\\nAnd mostly\\nWhat I need from you\\nI can always\\nFind someone\\nTo say\\nThey sympathize\\nIf I wear my heart\\nOut on my sleeve\\nBut I don't want\\nSome pretty face\\nTo tell me\\nPretty lies\\nAll I want\\nIs someone\\nTo believe\\n(Chorus)\\nI can find a lover\\nI can find a friend\\nI can have security\\nUntil the bitter end\\nAnyone can comfort me\\nWith promises again\\nI know, I know\\nWhen I'm deep\\nInside of me\\nDon't be\\nToo concerned\\nI won't ask\\nFor nothin'\\nWhile I'm gone\\nBut when I want\\nSincerity\\nTell me where else\\nCan I turn\\nWhen\\nYou're the one\\nThat I depend upon\\n(Chorus)\",\n",
       " 'I heard\\nChurch bells ringing\\nI heard\\nA choir singing\\nI saw my love\\nWalk down\\nThe aisle\\nOn her finger\\nHe placed a ring\\nOooh, oh\\nI saw them\\nHolding hands\\nShe was\\nStanding there\\nWwith my man\\nI heard\\nThem promise\\nTil death do\\nUs part\\nEach word\\nWas a pain\\nIn my heart\\nAll I could do\\nAll I could do\\nWas cry\\nAll I could do\\nWas cry\\nI was\\nLosing the man\\nThat I love\\nAnd all\\nI could do\\nWas cry\\nAnd now\\nThe wedding\\nIs over\\nThe rice, rice\\nHas been\\nThrown over\\nTheir heads\\nFor them life\\nHas just begun\\nBut mine\\nIs ending\\nOoh\\nAll I could do\\nAll I could do\\nWas cry\\nAll I could do\\nWas cry\\nI was losing\\nThe man\\nThat I love\\nAnd all\\nI could do\\nWas cry',\n",
       " \"Waiting, waiting, waiting, waiting\\nWaiting, waiting, waiting, waiting\\nWaiting, waiting, waiting, waiting ooh\\nWaiting, waiting, waiting, waiting\\nIt's 6 o'clock\\nand seconds feel like hours as I sit here\\nand watch them tick away\\nAnd just the thought\\nof seeing you again I wanna sing\\nI've been longing for this day\\nI'll be waiting\\n'cause I cant smile untill I see your smile\\nI'll be waiting\\nthere's nothing else that I would rather do\\nI'll be waiting\\n'cause I can't sleep until I hear your heart\\nI'll be waiting\\n'cause patiently I'll wait right here for you\\nWaiting, waiting, waiting, waiting\\nPatiently I'll wait right here for you\\nWaiting, waiting, waiting, waiting\\nPatiently I wait\\nIt's 12 am\\nthe crowd is getting thin but it's okay\\n'cause I ain't here for them\\nNo no no\\nAnd I refuse\\nto move from where I am\\nuntil I feel your heart\\npressed against mine again\\nI'm waiting!\\nI'll be waiting\\n'cause I cant smile until I see your smile\\nI'll be waiting\\nthere's nothing else that I would rather do\\nI'll be waiting\\n'cause I can't sleep until I hear your heart\\nI'll be waiting\\n'cause patiently I'll wait right here for you\\nI don't care how long it takes\\nI don't mind I'm alright I'll sit and wait\\n'til the sun comes down and rise\\nand come right back up again\\nYou're the best thing that's happened in my life\\nWhen your aps in the bar is in my life\\nand it just aint right\\nSo take as long as you like\\nI'm waiting\\nWaiting, waiting, waiting, waiting (4x)\\nI'm waiting\\nI'll be waiting\\nI cant smile until I see your smile\\nI'll be waiting\\nThere's nothing else that I would rather do\\nI'll be waiting\\n'cause I can't sleep until I hear your heart\\nI'll be waiting\\n'cause patiently I'll wait right here for you\\nI'll be waiting\\nI can't sleep until I hear your heart\\nI'll be waiting\\nThere's nothing else that I would rather do\\nI'll be waiting\\n'cause I can't sleep until I hear your heart\\nI'll be waiting\\n'cause patiently I wait right here for you\\nWaiting, waiting, waiting, waiting\\nPatiently I wait right here for you\\nWaiting, waiting, waiting, waiting\\nPatiently I wait\\nWaiting, waiting, waiting, waiting\\nWaiting, waiting, waiting, waiting\",\n",
       " \"[Chorus:]\\nI'm a world wide woman WWW you can log on anywhere you're girl can take you there.\\nWorld Wide Woman WWW you know I'm the type of girl.\\nI'm a world wide woman WWW you can log on anywhere you're girl can take you there.\\nBeyonce World Wide Woman WW W you know I'm the type of girl.\\nWorld\\nInternational no specific area code whether it's them project homes over seas on them coble stones roads.\\nI can just divide a globe what you need and all the essentials believe me I'm whatcha looking for login Bee backslash O N C each day baby.\\nWide\\n[Chorus:]\\nI'm a world wide woman WWW you can log on anywhere you're girl can take you there.\\nWorld Wide Woman WWW you know I'm the type of girl.\\nI'm a world wide woman WWW you can log on anywhere you're girl can take you there.\\nBeyonce World Wide Woman WW W you know I'm the type of girl.\\nWorld\\nIf it's like a MAC you want maximize the full potential baby if you connect with me I'm just like your high speed cable.\\nEven if u gotta fly to where they drive on the passenger side I'll be the like the Audubon when you get on you won't know how to let go.\\nBrowsing wont do, u got 2 click right here come find me I'll assure you the places you've never been I'll take you.\\nWWW\\n[Chorus:]\\nI'm a world wide woman WWW you can log on anywhere you're girl can take you there.\\nWorld Wide Woman WWW you know I'm the type of girl.\\nI'm a world wide woman WWW you can log on anywhere you're girl can take you there.\\nBeyonce World Wide Woman WW W you know I'm the type of girl.\\nWorld\\nI want love like any World Wide Woman would need\\nI know you think that can't be\\nStill got sensitivity\\nLyrics In my world it's hard to get off intensity\\nbut you feel so damn real to me\\nLyric Come take the lead\\nEnjoy this world with me\\n[Chorus: 2x]\\nI'm a world wide woman WWW you can log on anywhere you're girl can take you there.\\nWorld Wide Woman WWW you know I'm the type of girl.\\nI'm a world wide woman WWW you can log on anywhere you're girl can take you there.\\nBeyonce World Wide Woman WW W you know I'm the type of girl.\\nWorld\\nI'm a world wide woman WWW you can log on anywhere you're girl can take you there.\\nWorld Wide Woman WWW you know I'm the type of girl.\\nI'm a world wide woman WWW you can log on anywhere you're girl can take you there.\\nWorld Wide Woman WWW you know I'm the type of girl.\"]"
      ]
     },
     "execution_count": 7,
     "metadata": {},
     "output_type": "execute_result"
    }
   ],
   "source": [
    "pos_lyrics[:5]"
   ]
  },
  {
   "cell_type": "code",
   "execution_count": null,
   "id": "accessory-nurse",
   "metadata": {},
   "outputs": [],
   "source": []
  }
 ],
 "metadata": {
  "kernelspec": {
   "display_name": "Python 3",
   "language": "python",
   "name": "python3"
  },
  "language_info": {
   "codemirror_mode": {
    "name": "ipython",
    "version": 3
   },
   "file_extension": ".py",
   "mimetype": "text/x-python",
   "name": "python",
   "nbconvert_exporter": "python",
   "pygments_lexer": "ipython3",
   "version": "3.6.12"
  }
 },
 "nbformat": 4,
 "nbformat_minor": 5
}
